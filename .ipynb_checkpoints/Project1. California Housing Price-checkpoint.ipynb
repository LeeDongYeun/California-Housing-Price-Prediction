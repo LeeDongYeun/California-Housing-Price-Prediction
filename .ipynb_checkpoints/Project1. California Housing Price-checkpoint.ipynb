{
 "cells": [
  {
   "cell_type": "markdown",
   "metadata": {},
   "source": [
    "# California Housing Price \n",
    "reference : exercise in chapter 2 of 'Hands-On Machine Learning with Scikit-learn and Tensorflow' by Aurélien Géron. \n",
    "\n",
    "##### Tip> shortcuts for Jupyter Notebook\n",
    "* Ctrl + Enter : run cell\n",
    "* Shift + Enter : run cell and select below"
   ]
  },
  {
   "cell_type": "markdown",
   "metadata": {},
   "source": [
    "## 1. Data Load\n",
    "\n",
    "Load the data by using *read_csv()* method in __Pandas__ module. Then, let's take a look at the top 10 rows using the *head()* method. "
   ]
  },
  {
   "cell_type": "code",
   "execution_count": null,
   "metadata": {
    "scrolled": false
   },
   "outputs": [],
   "source": [
    "# Data load\n",
    "import pandas as pd\n",
    "\n",
    "housing = pd.read_csv('housing.csv')\n",
    "housing.head(10)"
   ]
  },
  {
   "cell_type": "markdown",
   "metadata": {},
   "source": [
    "Let's see the distribution of the data by using __matplotlib__ module briefly."
   ]
  },
  {
   "cell_type": "code",
   "execution_count": null,
   "metadata": {},
   "outputs": [],
   "source": [
    "# figures plotting with data\n",
    "%matplotlib inline\n",
    "import matplotlib\n",
    "import matplotlib.pyplot as plt\n",
    "plt.rcParams['axes.labelsize'] = 14\n",
    "plt.rcParams['xtick.labelsize'] = 12\n",
    "plt.rcParams['ytick.labelsize'] = 12\n",
    "\n",
    "housing.plot(kind=\"scatter\", x=\"longitude\", y=\"latitude\", alpha=0.4,\n",
    "    s=housing[\"population\"]/50, label=\"population\", figsize=(10,7),\n",
    "    c=\"median_house_value\", cmap=plt.get_cmap(\"jet\"), colorbar=True,\n",
    "    sharex=False)\n",
    "\n",
    "plt.legend()"
   ]
  },
  {
   "cell_type": "markdown",
   "metadata": {},
   "source": [
    "To better understand the characteristics of each feature, let's apply the *info()* method."
   ]
  },
  {
   "cell_type": "code",
   "execution_count": null,
   "metadata": {
    "scrolled": false
   },
   "outputs": [],
   "source": [
    "# check a structure of the data\n",
    "housing.info()"
   ]
  },
  {
   "cell_type": "markdown",
   "metadata": {},
   "source": [
    "Let’s look at how much each attribute correlates with the *median house value*:"
   ]
  },
  {
   "cell_type": "code",
   "execution_count": null,
   "metadata": {},
   "outputs": [],
   "source": [
    "# correlation between the median_house_value and other features\n",
    "corr_matrix = housing.corr()\n",
    "corr_matrix['median_house_value'].sort_values(ascending=False)"
   ]
  },
  {
   "cell_type": "markdown",
   "metadata": {},
   "source": [
    "## 2. Prepare the Data\n",
    "\n",
    "this step consists of 'pre-processing', 'train-test seperation', and 'feature-label seperation'."
   ]
  },
  {
   "cell_type": "markdown",
   "metadata": {},
   "source": [
    "### 2-1) Pre-processing \n",
    "\n",
    "#### 2-1.1) Data cleaning\n",
    "Most Machine Learning algorithms cannot work with missing features, so let’s replace the empty values of 'total_bedrooms' with the median value."
   ]
  },
  {
   "cell_type": "code",
   "execution_count": null,
   "metadata": {},
   "outputs": [],
   "source": [
    "# replace the empty values with the median\n",
    "median =housing[\"total_bedrooms\"].median()\n",
    "housing[\"total_bedrooms\"] = housing[\"total_bedrooms\"].fillna(median) \n",
    "housing.info()"
   ]
  },
  {
   "cell_type": "markdown",
   "metadata": {},
   "source": [
    "#### 2-1.2) Attributes combinations\n",
    "*rooms_per_household* is more meaningful than *total_rooms*. Also, *bedrooms_per_room* is more meaningful than *total_bedrooms*."
   ]
  },
  {
   "cell_type": "code",
   "execution_count": null,
   "metadata": {},
   "outputs": [],
   "source": [
    "# Attributes combinations\n",
    "housing[\"rooms_per_household\"] = housing[\"total_rooms\"]/housing[\"households\"]\n",
    "housing[\"bedrooms_per_room\"] = housing[\"total_bedrooms\"]/housing[\"total_rooms\"]\n",
    "del housing[\"total_rooms\"], housing[\"total_bedrooms\"]\n",
    "\n",
    "housing.info()"
   ]
  },
  {
   "cell_type": "code",
   "execution_count": null,
   "metadata": {
    "scrolled": false
   },
   "outputs": [],
   "source": [
    "######################################################### < Quiz. >#####################################################################\n",
    "\n",
    "# To do : Write the code to calculate the correlation coeff. Between 'bedrooms_per_room' and 'median_house_value'. \n",
    "\n",
    "\n",
    "\n",
    "\n",
    "#########################################################################################################################################"
   ]
  },
  {
   "cell_type": "markdown",
   "metadata": {},
   "source": [
    "#### 2-1.3) Feature Scaling\n",
    "Machine Learning algorithms don’t perform well when the input numerical attributes have very different scales.\n",
    "\n",
    "__Scikit-Learn__ provides a transformer called *StandardScaler* for *standardization*."
   ]
  },
  {
   "cell_type": "code",
   "execution_count": null,
   "metadata": {
    "scrolled": true
   },
   "outputs": [],
   "source": [
    "# feature standardization\n",
    "from sklearn.preprocessing import StandardScaler\n",
    "\n",
    "scaler = StandardScaler()\n",
    "\n",
    "# delete a column of text type\n",
    "col_list = list(housing) \n",
    "col_list.remove('ocean_proximity') # text type\n",
    "col_list.remove('median_house_value') # target variable needs not to be scaled\n",
    "\n",
    "# generate a new dataframe that consist of numeric type only\n",
    "housing_numeric = housing[col_list]\n",
    "housing_scaled = scaler.fit_transform(housing_numeric)\n",
    "# Data type conversion from 'Series' to 'DataFrame'\n",
    "housing_scaled_df = pd.DataFrame(housing_scaled, index=housing_numeric.index, columns=housing_numeric.columns)\n",
    "\n",
    "# Concatenate \n",
    "housing = pd.concat([housing_scaled_df, housing['median_house_value'], housing['ocean_proximity']], axis=1)\n",
    "housing.head()"
   ]
  },
  {
   "cell_type": "markdown",
   "metadata": {},
   "source": [
    "#### 2-1.4) Handling Text and Categorical Attributes\n",
    "Most Machine Learning algorithms prefer to work with numbers anyway, so let’s convert the 'ocean_proximity' to numbers.\n",
    "\n",
    "__Pandas__ provides a *get_dummies* method to convert integer categorical values into one-hot vectors. "
   ]
  },
  {
   "cell_type": "code",
   "execution_count": null,
   "metadata": {},
   "outputs": [],
   "source": [
    "# One-hot encoding\n",
    "housing = pd.get_dummies(housing)\n",
    "housing.head(10)"
   ]
  },
  {
   "cell_type": "markdown",
   "metadata": {},
   "source": [
    "### 2-2) Training and Test Set Seperation\n",
    "__Scikit-Learn__ provides *train_test_split* function to split dataset into multiple subsets in various ways. "
   ]
  },
  {
   "cell_type": "code",
   "execution_count": null,
   "metadata": {},
   "outputs": [],
   "source": [
    "# training - test seperation\n",
    "from sklearn.model_selection import train_test_split\n",
    "\n",
    "train_set, test_set = train_test_split(housing, test_size=0.2, random_state=42)\n",
    "\n",
    "print('# of train_set : %.0f, # of test_set : %.0f' %(train_set.shape[0], test_set.shape[0]))"
   ]
  },
  {
   "cell_type": "markdown",
   "metadata": {},
   "source": [
    "### 2-3) Features and Target Value Seperation of the Training Set\n",
    "It’s time to prepare the data for your Machine Learning algorithms. \n",
    "\n",
    "Let’s separate the features and target value to generate the model H(X)."
   ]
  },
  {
   "cell_type": "code",
   "execution_count": null,
   "metadata": {},
   "outputs": [],
   "source": [
    "# feature and label seperation of training set\n",
    "train_set_features = train_set.drop('median_house_value',axis=1)\n",
    "train_set_target = train_set[\"median_house_value\"].copy()"
   ]
  },
  {
   "cell_type": "markdown",
   "metadata": {},
   "source": [
    "## 3. Linear Regression\n",
    "generate the linear regression model by using *LinearRegression* function from __Scikit-learn__.\n",
    "\n",
    "For calculating our RMSE, *mean_square_error* function will be used from __scikit-learn__. Also, __numpy__ module will be used to use sqaure-root operation.\n",
    "\n",
    " $$RMSE = \\sqrt{\\sum{(y - \\widehat y)^2}\\over N}$$\n",
    " <br/>\n",
    " \n",
    "$y$ : actual median_house_value, $\\widehat y$ : median_house_value predicted. $N$ : total number of data<br/>"
   ]
  },
  {
   "cell_type": "code",
   "execution_count": null,
   "metadata": {},
   "outputs": [],
   "source": [
    "from sklearn.linear_model import LinearRegression\n",
    "from sklearn.metrics import mean_squared_error\n",
    "import numpy as np # for a sqaure root calcuation\n",
    "\n",
    "# generate model by using training set\n",
    "lin_reg = LinearRegression()\n",
    "lin_reg.fit(train_set_features, train_set_target) \n",
    "\n",
    "# Feature and target value Seperation of the test set\n",
    "test_set_features = test_set.drop('median_house_value',axis=1)\n",
    "test_set_target = test_set[\"median_house_value\"].copy()\n",
    "\n",
    "# target value predicted from our model\n",
    "final_model = lin_reg\n",
    "final_predictions = final_model.predict(test_set_features)\n",
    "\n",
    "# RMSE\n",
    "final_mse = mean_squared_error(test_set_target, final_predictions)\n",
    "final_rmse = np.sqrt(final_mse)\n",
    "\n",
    "print('final_linear_RMSE : %.2f' %final_rmse)"
   ]
  },
  {
   "cell_type": "markdown",
   "metadata": {},
   "source": [
    "## 4. Ridge Regression\n",
    "__scikit-learn__ provides *Ridge* function and *cross_val_score* function to calculate a cross-validation."
   ]
  },
  {
   "cell_type": "code",
   "execution_count": null,
   "metadata": {},
   "outputs": [],
   "source": [
    "from sklearn.linear_model import Ridge\n",
    "from sklearn.model_selection import cross_val_score\n",
    "\n",
    "# a function defined to calculate the RMSE with 5-fold cross-validation.\n",
    "def mean_cv_rmse(model):\n",
    "    rmse= np.sqrt(-cross_val_score(model, train_set_features, \n",
    "                                   train_set_target, scoring=\"neg_mean_squared_error\", cv = 5))\n",
    "    return(rmse.mean())\n",
    "\n",
    "# find best alpha\n",
    "alpha_range = np.arange(0, 1.5, 0.1)\n",
    "cv_ridge = [mean_cv_rmse(Ridge(alpha = alpha_value)) for alpha_value in alpha_range]\n",
    "cv_ridge = pd.Series(cv_ridge, index=alpha_range)\n",
    "ridge_best_alpha = cv_ridge.idxmin()\n",
    "print(\"Best alpha : %f\" % (ridge_best_alpha))\n",
    "\n",
    "# plot the RMSE curve according to alpha value\n",
    "fig = plt.figure()\n",
    "ax1 = fig.add_subplot(1,1,1)\n",
    "ax1.plot(alpha_range, cv_ridge)\n",
    "ax1.set_ylim(67812, 67813.2)\n",
    "y_formatter = matplotlib.ticker.ScalarFormatter(useOffset=False)\n",
    "ax1.yaxis.set_major_formatter(y_formatter)\n",
    "plt.xlabel(\"alpha\")\n",
    "plt.ylabel(\"RMSE\")\n",
    "\n",
    "# ridge regression\n",
    "model_ridge = Ridge(alpha = ridge_best_alpha)\n",
    "model_ridge.fit(train_set_features, train_set_target)\n",
    "\n",
    "# ridge RMSE\n",
    "ridge_predicted = model_ridge.predict(test_set_features)\n",
    "final_ridge_mse = mean_squared_error(test_set_target, ridge_predicted)\n",
    "final_ridge_rmse = np.sqrt(final_ridge_mse)\n",
    "print('final_ridge_RMSE : %.2f' %final_ridge_rmse)\n",
    "\n",
    "# command to hide the warning box\n",
    "import warnings\n",
    "warnings.filterwarnings(action = 'ignore')"
   ]
  },
  {
   "cell_type": "markdown",
   "metadata": {},
   "source": [
    "## 5. Lasso Regression"
   ]
  },
  {
   "cell_type": "code",
   "execution_count": null,
   "metadata": {},
   "outputs": [],
   "source": [
    "########### To do : fill in the box with your Lasso code. ###############\n",
    "\n",
    "\n"
   ]
  }
 ],
 "metadata": {
  "kernelspec": {
   "display_name": "Python 3",
   "language": "python",
   "name": "python3"
  },
  "language_info": {
   "codemirror_mode": {
    "name": "ipython",
    "version": 3
   },
   "file_extension": ".py",
   "mimetype": "text/x-python",
   "name": "python",
   "nbconvert_exporter": "python",
   "pygments_lexer": "ipython3",
   "version": "3.6.5"
  },
  "nav_menu": {
   "height": "279px",
   "width": "309px"
  },
  "toc": {
   "nav_menu": {},
   "number_sections": true,
   "sideBar": true,
   "skip_h1_title": false,
   "toc_cell": false,
   "toc_position": {},
   "toc_section_display": "block",
   "toc_window_display": false
  }
 },
 "nbformat": 4,
 "nbformat_minor": 1
}
